{
 "cells": [
  {
   "cell_type": "code",
   "execution_count": null,
   "outputs": [],
   "source": [
    "%load_ext autoreload"
   ],
   "metadata": {
    "collapsed": false
   }
  },
  {
   "cell_type": "code",
   "execution_count": null,
   "metadata": {
    "collapsed": true
   },
   "outputs": [],
   "source": [
    "from collections import defaultdict\n",
    "import joblib\n",
    "from tqdm.notebook import tqdm\n",
    "from ML.data_preprocessing import Dataset\n",
    "from ML.machine_learning_models import *\n",
    "# ML utils\n",
    "from ML.machine_learning_models import Model_Evaluation as ml_evaluation\n",
    "from ML.ml_utils_reg import create_directory, ECFP4, set_global_determinism, potency_classes, \\\n",
    "    select_train_subsets_unbalanced\n",
    "%autoreload 2"
   ]
  },
  {
   "cell_type": "markdown",
   "source": [
    "## Parameters"
   ],
   "metadata": {
    "collapsed": false
   }
  },
  {
   "cell_type": "code",
   "execution_count": null,
   "outputs": [],
   "source": [
    "# parameters\n",
    "# Models\n",
    "model_list =  ['1-NN','kNN','SVR','RFR','MR']\n",
    "# Number of trials (datasplits)\n",
    "trial_splits = 10\n",
    "#Molecular Fingerprint\n",
    "fingerprint = 'ECFP4'\n",
    "# Approach\n",
    "approach = 'Unbalanced'\n",
    "# Training set sizes\n",
    "set_sizes = [6, 12, 18, 30, 48, 78, 126, 204, 330]"
   ],
   "metadata": {
    "collapsed": false
   }
  },
  {
   "cell_type": "markdown",
   "source": [
    "## Load Dataset"
   ],
   "metadata": {
    "collapsed": false
   }
  },
  {
   "cell_type": "code",
   "execution_count": null,
   "outputs": [],
   "source": [
    "# Dataset path\n",
    "db_path = \"./dataset/Datasets Chembl/\"\n",
    "# Load actives dB\n",
    "regression_db_all = pd.read_csv(db_path + f'chembl_30_IC50_500_CPDs.csv')\n",
    "regression_db_all['potency_class'] = potency_classes(regression_db_all.pPot.values, [5, 7, 9, 11])\n",
    "regression_db_all"
   ],
   "metadata": {
    "collapsed": false
   }
  },
  {
   "cell_type": "markdown",
   "source": [
    "# Select Targets dataset"
   ],
   "metadata": {
    "collapsed": false
   }
  },
  {
   "cell_type": "code",
   "execution_count": null,
   "outputs": [],
   "source": [
    "regression_tids = ['CHEMBL280', 'CHEMBL203', 'CHEMBL2409']\n",
    "regression_db = regression_db_all.loc[regression_db_all.chembl_tid.isin(regression_tids)]\n",
    "regression_db"
   ],
   "metadata": {
    "collapsed": false
   }
  },
  {
   "cell_type": "markdown",
   "source": [
    "# Create results folder"
   ],
   "metadata": {
    "collapsed": false
   }
  },
  {
   "cell_type": "code",
   "execution_count": null,
   "outputs": [],
   "source": [
    "# Results path\n",
    "main_folder = 'regression_models_increase_tr_sizes_3_bins_unbalanced'\n",
    "result_path = f'./{main_folder}/{fingerprint}/{approach}/'"
   ],
   "metadata": {
    "collapsed": false
   }
  },
  {
   "cell_type": "code",
   "execution_count": null,
   "outputs": [],
   "source": [
    "regression_tids = regression_db.chembl_tid.unique()[:]\n",
    "regression_tids"
   ],
   "metadata": {
    "collapsed": false
   }
  },
  {
   "cell_type": "code",
   "execution_count": null,
   "outputs": [],
   "source": [
    "# Performance/prediction datasets\n",
    "dict_storage = defaultdict(pd.DataFrame)\n",
    "parameter_resume = []\n",
    "\n",
    "performance_train_df = pd.DataFrame()\n",
    "predictions_train_df = pd.DataFrame()\n",
    "performance_test_df = pd.DataFrame()\n",
    "predictions_test_df = pd.DataFrame()\n",
    "\n",
    "for target in tqdm(regression_tids):\n",
    "\n",
    "    target_path = create_directory(f'./{main_folder}/{fingerprint}/{approach}/{target}/')\n",
    "\n",
    "    print(f'Training on {target}')\n",
    "\n",
    "    # Select Target Database\n",
    "    regression_db_tid = regression_db.loc[regression_db.chembl_tid == target]\n",
    "\n",
    "    for trial in range(trial_splits):\n",
    "        print(f'Starting Trial {trial}')\n",
    "        df_regression_train_cids = select_train_subsets_unbalanced(regression_db_tid, sizes=set_sizes, seed=trial)\n",
    "\n",
    "        #Set seed\n",
    "        set_global_determinism(seed=trial)\n",
    "\n",
    "        # TEST set\n",
    "        df_regression_test = regression_db_tid.loc[~regression_db_tid.chembl_cid.isin(df_regression_train_cids[set_sizes[-1]])]\n",
    "        test_set = Dataset(np.array(ECFP4(df_regression_test.nonstereo_aromatic_smiles.values)), np.array(df_regression_test.pPot.values))\n",
    "        test_set.add_instance(\"target\", df_regression_test.chembl_tid.values)\n",
    "        test_set.add_instance(\"smiles\", df_regression_test.nonstereo_aromatic_smiles.values)\n",
    "        test_set.add_instance(\"cid\", df_regression_test.chembl_cid.values)\n",
    "\n",
    "        for size in set_sizes:\n",
    "            print(size)\n",
    "\n",
    "            # TRAIN set\n",
    "            df_regression_train = regression_db_tid.loc[regression_db_tid.chembl_cid.isin(df_regression_train_cids[size])]\n",
    "            train_set = Dataset(np.array(ECFP4(df_regression_train.nonstereo_aromatic_smiles.values)), np.array(df_regression_train.pPot.values))\n",
    "            train_set.add_instance(\"target\", df_regression_train.chembl_tid.values)\n",
    "            train_set.add_instance(\"smiles\", df_regression_train.nonstereo_aromatic_smiles.values)\n",
    "            train_set.add_instance(\"cid\", df_regression_train.chembl_cid.values)\n",
    "            train_set.add_instance(\"potency_classes\", df_regression_train.potency_class.values)\n",
    "\n",
    "            for model in model_list:\n",
    "\n",
    "                print(f'Training {model}')\n",
    "\n",
    "                # Create saving directory\n",
    "                model_fpath = create_directory(f\"./{main_folder}/{fingerprint}/{approach}/{target}/{model}/{size}\", verbose=False)\n",
    "\n",
    "                ml_model = MLModel(train_set, model, data_type='unbalanced')\n",
    "                joblib.dump(ml_model.model, os.path.join(model_fpath, f\"{model}_{trial}.pkl\"))\n",
    "\n",
    "                #Best model parameters\n",
    "                opt_parameters_dict = {**{'model': model,\n",
    "                                            'trial': trial,\n",
    "                                            'Target ID': target,\n",
    "                                            'Training size':size}, **ml_model.best_params}\n",
    "                parameter_resume.append(opt_parameters_dict)\n",
    "\n",
    "                # TEST\n",
    "                #Model Evaluation\n",
    "                model_eval_train = ml_evaluation(ml_model, train_set, train_set, model_id=model)\n",
    "                model_eval_test = ml_evaluation(ml_model, test_set, train_set, model_id=model)\n",
    "\n",
    "                #Performance df\n",
    "                performance_train = model_eval_train.pred_performance\n",
    "                performance_train[\"trial\"] = trial\n",
    "                performance_train[\"Approach\"] = approach\n",
    "                performance_train[\"Training size\"] = size\n",
    "                performance_train_df = pd.concat([performance_train_df, performance_train])\n",
    "\n",
    "                # Prediction df\n",
    "                predictions_train = model_eval_train.predictions\n",
    "                predictions_train[\"trial\"] = trial\n",
    "                predictions_train[\"Approach\"] = approach\n",
    "                predictions_train[\"Training size\"] = size\n",
    "                predictions_train_df = pd.concat([predictions_train_df, predictions_train])\n",
    "\n",
    "                #Performance df\n",
    "                performance_test = model_eval_test.pred_performance\n",
    "                performance_test[\"trial\"] = trial\n",
    "                performance_test[\"Approach\"] = approach\n",
    "                performance_test[\"Training size\"] = size\n",
    "                performance_test_df = pd.concat([performance_test_df, performance_test])\n",
    "\n",
    "                # Prediction df\n",
    "                predictions_test = model_eval_test.predictions\n",
    "                predictions_test[\"trial\"] = trial\n",
    "                predictions_test[\"Approach\"] = approach\n",
    "                predictions_test[\"Training size\"] = size\n",
    "                predictions_test_df = pd.concat([predictions_test_df, predictions_test])\n",
    "\n",
    "parameter_df = pd.DataFrame(parameter_resume)\n",
    "\n",
    "# Save results\n",
    "performance_train_df.to_csv(os.path.join(result_path, f'performance_train.csv'))\n",
    "predictions_train_df.to_csv(os.path.join(result_path, f'predictions_train.csv'))\n",
    "performance_test_df.to_csv(os.path.join(result_path, f'performance_test.csv'))\n",
    "predictions_test_df.to_csv(os.path.join(result_path, f'predictions_test.csv'))\n",
    "parameter_df.to_csv(os.path.join(result_path, f'model_best_parameters.csv'))"
   ],
   "metadata": {
    "collapsed": false
   }
  }
 ],
 "metadata": {
  "kernelspec": {
   "display_name": "Python 3",
   "language": "python",
   "name": "python3"
  },
  "language_info": {
   "codemirror_mode": {
    "name": "ipython",
    "version": 2
   },
   "file_extension": ".py",
   "mimetype": "text/x-python",
   "name": "python",
   "nbconvert_exporter": "python",
   "pygments_lexer": "ipython2",
   "version": "2.7.6"
  }
 },
 "nbformat": 4,
 "nbformat_minor": 0
}
