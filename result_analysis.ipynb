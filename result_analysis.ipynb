{
 "cells": [
  {
   "cell_type": "code",
   "execution_count": null,
   "metadata": {
    "collapsed": true
   },
   "outputs": [],
   "source": [
    "%load_ext autoreload"
   ]
  },
  {
   "cell_type": "code",
   "execution_count": null,
   "outputs": [],
   "source": [
    "# ML utils\n",
    "from ML.machine_learning_models import *\n",
    "from ML.ml_utils_reg import create_directory, potency_classes, metrics_potency_classes, metric_potency_classes_ub\n",
    "import seaborn as sns\n",
    "from ML.ml_utils_reg import plot_regression_models_cat, plot_regression_models_cat_mod, plot_heatmap_stat_analysis\n",
    "%autoreload 2"
   ],
   "metadata": {
    "collapsed": false
   }
  },
  {
   "cell_type": "code",
   "execution_count": null,
   "outputs": [],
   "source": [
    "# parameters\n",
    "# Models\n",
    "model_list =  ['1-NN','kNN','SVR','RFR','MR']\n",
    "# Number of trials (datasplits)\n",
    "trial_splits = 10\n",
    "#Molecular Fingerprint\n",
    "fingerprint = 'ECFP4'\n",
    "# Approach\n",
    "approach = 'Unbalanced'\n",
    "# Plot\n",
    "sns.set_style(\"whitegrid\", {'axes.grid' : True})\n",
    "figure_path = create_directory('./figures/')"
   ],
   "metadata": {
    "collapsed": false
   }
  },
  {
   "cell_type": "markdown",
   "source": [
    "# **Load data** Fig3/S2/S3"
   ],
   "metadata": {
    "collapsed": false
   }
  },
  {
   "cell_type": "code",
   "execution_count": null,
   "outputs": [],
   "source": [
    "# Results path\n",
    "main_folder = 'regression_models_50_50'\n",
    "result_path = f'./{main_folder}/{fingerprint}/{approach}/'\n",
    "performance_test_df = pd.read_csv(os.path.join(result_path, f'performance_test.csv'), index_col=False)\n",
    "performance_test_df"
   ],
   "metadata": {
    "collapsed": false
   }
  },
  {
   "cell_type": "code",
   "execution_count": null,
   "outputs": [],
   "source": [
    "performance_test_df_mod = performance_test_df[['Target ID','Algorithm','Dataset size', 'Metric', 'Value', 'trial']].rename(columns={'Dataset size': 'Test size'})\n",
    "performance_test_df_mod['potency_class'] = '5 - 11'\n",
    "performance_test_df_mod"
   ],
   "metadata": {
    "collapsed": false
   }
  },
  {
   "cell_type": "markdown",
   "source": [],
   "metadata": {
    "collapsed": false
   }
  },
  {
   "cell_type": "markdown",
   "source": [
    "# Predictions Fig3/S2/S3"
   ],
   "metadata": {
    "collapsed": false
   }
  },
  {
   "cell_type": "code",
   "execution_count": null,
   "outputs": [],
   "source": [
    "predictions_test_df = pd.read_csv(os.path.join(result_path, f'predictions_test.csv'), index_col=False)\n",
    "predictions_test_df['potency_class'] = potency_classes(predictions_test_df.Experimental.values, [5,7,9,11])\n",
    "predictions_test_df['dataset'] = 'Test'\n",
    "predictions_test_df"
   ],
   "metadata": {
    "collapsed": false
   }
  },
  {
   "cell_type": "markdown",
   "source": [
    "# Calculate metrics for each potency range"
   ],
   "metadata": {
    "collapsed": false
   }
  },
  {
   "cell_type": "code",
   "execution_count": null,
   "outputs": [],
   "source": [
    "results_pc_un = metric_potency_classes_ub(predictions_test_df,\n",
    "                                          targets=[333, 268, 280, 203, 279, 2409, 260, 286],\n",
    "                                          potency_classess=[5,7,9],\n",
    "                                          trials=10,\n",
    "                                          algorithms=['1-NN','kNN','SVR','RFR','MR'])"
   ],
   "metadata": {
    "collapsed": false
   }
  },
  {
   "cell_type": "code",
   "execution_count": null,
   "outputs": [],
   "source": [
    "results_pc_tid_final = pd.concat([results_pc_un, performance_test_df_mod], axis=0, ignore_index=True, sort=False)"
   ],
   "metadata": {
    "collapsed": false
   }
  },
  {
   "cell_type": "markdown",
   "source": [
    "# Plot FigS2/3"
   ],
   "metadata": {
    "collapsed": false
   }
  },
  {
   "cell_type": "code",
   "execution_count": null,
   "outputs": [],
   "source": [
    "results_pc_tid = results_pc_tid_final.copy()\n",
    "results_pc_tid.rename(columns={'potency_class': 'Potency classes'}, inplace=True)\n",
    "\n",
    "for i, metric_ind in enumerate([\"MAE\", \"RMSE\"]):\n",
    "    plot_regression_models_cat(results_pc_tid, [metric_ind], x='Potency classes', y='Value',\n",
    "                               col='Target ID',\n",
    "                               hue = 'Algorithm', hue_order=['1-NN', 'kNN', 'SVR', 'RFR','MR'], order=['5 - 11', '5 - 7', '7 - 9', '9 - 11'], #\n",
    "                               aspect=1.2, height=7,\n",
    "                               palette='tab10',\n",
    "                               y_labels= f'{metric_ind}',\n",
    "                               font_size=22,\n",
    "                               row=None, col_wrap=2,\n",
    "                               sharey='row',\n",
    "                               yticks=[0.25, 0.5, 0.75, 1.0, 1.25, 1.5, 1.75, 2.0, 2.25, 2.5],\n",
    "                               bbox_to_anchor=(-0.0, -0.35),\n",
    "                               results_path=figure_path, filename=f'S{i+2}', legend_title='Potency ranges',\n",
    "                               )"
   ],
   "metadata": {
    "collapsed": false
   }
  },
  {
   "cell_type": "markdown",
   "source": [
    "# Plot Fig3"
   ],
   "metadata": {
    "collapsed": false
   }
  },
  {
   "cell_type": "code",
   "execution_count": null,
   "outputs": [],
   "source": [
    "results_pc_tids = results_pc_tid_final.loc[results_pc_tid_final['Target ID'].isin([203, 280, 2409])]\n",
    "results_pc_tids.rename(columns={'potency_class': 'Potency class'}, inplace=True)"
   ],
   "metadata": {
    "collapsed": false
   }
  },
  {
   "cell_type": "code",
   "execution_count": null,
   "outputs": [],
   "source": [
    "plot_regression_models_cat_mod(results_pc_tids, ['MAE', 'RMSE'], x='Potency class', y='Value',\n",
    "                               col='Metric',\n",
    "                               hue = 'Algorithm', hue_order=['1-NN', 'kNN', 'SVR', 'RFR', 'MR'],\n",
    "                               order=['5 - 11', '5 - 7', '7 - 9', '9 - 11'],\n",
    "                               aspect=1.5, height=7, col_nr=2,\n",
    "                               palette='tab10',\n",
    "                               font_size=22,\n",
    "                               row='Target ID',\n",
    "                               sharey=False,\n",
    "                               ymax=2.3,\n",
    "                               yticks=[0.2, 0.4, 0.6, 0.8, 1.0, 1.2, 1.4, 1.6, 1.8, 2, 2.2],\n",
    "                               bbox_to_anchor=(-0.08, -0.37), legend_title='Potency ranges',\n",
    "                               results_path=figure_path, filename=f'F3'\n",
    "                               )"
   ],
   "metadata": {
    "collapsed": false
   }
  },
  {
   "cell_type": "markdown",
   "source": [
    "# Load data Training set of increasing size"
   ],
   "metadata": {
    "collapsed": false
   }
  },
  {
   "cell_type": "code",
   "execution_count": null,
   "outputs": [],
   "source": [
    "# Results path\n",
    "approach_b = 'Balanced'\n",
    "approach_utut = 'Unbalanced'\n",
    "main_folder_b = 'regression_models_increase_tr_sizes_3_bins_330'\n",
    "result_path_b = f'./{main_folder_b}/{fingerprint}/{approach_b}/'\n",
    "main_folder_utut = 'regression_models_increase_tr_sizes_3_bins_unbalanced'\n",
    "result_path_utut = f'./{main_folder_utut}/{fingerprint}/{approach_utut}/'"
   ],
   "metadata": {
    "collapsed": false
   }
  },
  {
   "cell_type": "markdown",
   "source": [
    "# Performance Test"
   ],
   "metadata": {
    "collapsed": false
   }
  },
  {
   "cell_type": "code",
   "execution_count": null,
   "outputs": [],
   "source": [
    "# Load data\n",
    "# performance Balanced\n",
    "performance_test_df_b = pd.read_csv(os.path.join(result_path_b, f'performance_test.csv'), index_col=False)\n",
    "performance_test_df_b['Approach'] = 'BTR-BTE'\n",
    "# performance Balanced\n",
    "performance_test_df_utut = pd.read_csv(os.path.join(result_path_utut, f'performance_test.csv'), index_col=False)\n",
    "performance_test_df_utut['Approach'] = 'UTR-UTE'\n"
   ],
   "metadata": {
    "collapsed": false
   }
  },
  {
   "cell_type": "code",
   "execution_count": null,
   "outputs": [],
   "source": [
    "performance_test_df_final = pd.concat([performance_test_df_b, performance_test_df_utut])\n",
    "performance_test_df_final"
   ],
   "metadata": {
    "collapsed": false
   }
  },
  {
   "cell_type": "markdown",
   "source": [
    "# Predictions Test"
   ],
   "metadata": {
    "collapsed": false
   }
  },
  {
   "cell_type": "code",
   "execution_count": null,
   "outputs": [],
   "source": [
    "predictions_test_df_btr_bte = pd.read_csv(os.path.join(result_path_b, f'predictions_test.csv'), index_col=False)\n",
    "predictions_test_df_btr_bte['potency_class'] = potency_classes(predictions_test_df_btr_bte.Experimental.values, [5,7,9,11])\n",
    "predictions_test_df_btr_bte['dataset'] = 'Test'"
   ],
   "metadata": {
    "collapsed": false
   }
  },
  {
   "cell_type": "code",
   "execution_count": null,
   "outputs": [],
   "source": [
    "predictions_test_df_utr_ute = pd.read_csv(os.path.join(result_path_utut, f'predictions_test.csv'), index_col=False)\n",
    "predictions_test_df_utr_ute['potency_class'] = potency_classes(predictions_test_df_utr_ute.Experimental.values, [5,7,9,11])\n",
    "predictions_test_df_utr_ute['dataset'] = 'Test'"
   ],
   "metadata": {
    "collapsed": false
   }
  },
  {
   "cell_type": "markdown",
   "source": [
    "# Balanced TR/ Balanced TE"
   ],
   "metadata": {
    "collapsed": false
   }
  },
  {
   "cell_type": "code",
   "execution_count": null,
   "outputs": [],
   "source": [
    "results_pc = metrics_potency_classes(predictions_test_df_btr_bte)\n",
    "results_pc.potency_class.replace({5:'5 - 7', 7:'7 - 9', 9: '9 - 11'}, inplace=True)"
   ],
   "metadata": {
    "collapsed": false
   }
  },
  {
   "cell_type": "markdown",
   "source": [
    "# Unbalanced TR/ Unbalanced TE"
   ],
   "metadata": {
    "collapsed": false
   }
  },
  {
   "cell_type": "code",
   "execution_count": null,
   "outputs": [],
   "source": [
    "results_pc_ut_ut = metrics_potency_classes(predictions_test_df_utr_ute)\n",
    "results_pc_ut_ut.potency_class.replace({5:'5 - 7', 7:'7 - 9', 9: '9 - 11'}, inplace=True)"
   ],
   "metadata": {
    "collapsed": false
   }
  },
  {
   "cell_type": "markdown",
   "source": [
    "# Plot Fig4"
   ],
   "metadata": {
    "collapsed": false
   }
  },
  {
   "cell_type": "code",
   "execution_count": null,
   "outputs": [],
   "source": [
    "results_pc_tid = results_pc.copy()\n",
    "results_pc_tid.rename(columns={'potency_class': 'Potency class'}, inplace=True)\n",
    "metric_ind = 'MAE'\n",
    "plot_regression_models_cat(results_pc_tid, [metric_ind], x='Training size', y='Value',\n",
    "                           col='Potency class',\n",
    "                           hue = 'Algorithm', hue_order=['1-NN', 'kNN', 'SVR', 'RFR', 'MR'],\n",
    "                           aspect=1, height=10, col_nr=3, width=0.8,\n",
    "                           palette='tab10',\n",
    "                           y_labels= f'{metric_ind}',\n",
    "                           font_size=25, row=\"Target ID\",\n",
    "                           sharey='row',\n",
    "                           yticks=[0.2, 0.4, 0.6, 0.8, 1, 1.2, 1.4, 1.6, 1.8, 2.0, 2.2, 2.4, 2.6, 2.8],\n",
    "                           bbox_to_anchor=(-0.55, -0.3), title=True,\n",
    "                           legend_title='Training size',\n",
    "                           results_path=figure_path, filename=f'F4'\n",
    "                           )"
   ],
   "metadata": {
    "collapsed": false
   }
  },
  {
   "cell_type": "markdown",
   "source": [
    "# Plot S4"
   ],
   "metadata": {
    "collapsed": false
   }
  },
  {
   "cell_type": "code",
   "execution_count": null,
   "outputs": [],
   "source": [
    "results_pc_tid_ut_ut = results_pc_ut_ut.copy()\n",
    "results_pc_tid_ut_ut.rename(columns={'potency_class': 'Potency class'}, inplace=True)\n",
    "metric_ind = 'MAE'\n",
    "plot_regression_models_cat(results_pc_tid_ut_ut, [metric_ind], x='Training size', y='Value',\n",
    "                           col='Potency class',\n",
    "                           hue = 'Algorithm', hue_order=['1-NN', 'kNN', 'SVR', 'RFR', 'MR'],\n",
    "                           aspect=1, height=10, col_nr=3, width=0.8,\n",
    "                           palette='tab10',\n",
    "                           y_labels= f'{metric_ind}',\n",
    "                           font_size=25, row=\"Target ID\",\n",
    "                           sharey='row',\n",
    "                           #yticks=[0.2, 0.4, 0.6, 0.8, 1, 1.2, 1.4, 1.6, 1.8, 2.0, 2.2, 2.4, 2.6, 2.8],\n",
    "                           bbox_to_anchor=(-0.55, -0.3), title=True,\n",
    "                           legend_title='Training size',\n",
    "                           #sub_fig_title='b',\n",
    "                           results_path=figure_path, filename=f'S4'\n",
    "                           )"
   ],
   "metadata": {
    "collapsed": false
   }
  },
  {
   "cell_type": "markdown",
   "source": [
    "# Statistical Analysis Fig S5"
   ],
   "metadata": {
    "collapsed": false
   }
  },
  {
   "cell_type": "code",
   "execution_count": null,
   "outputs": [],
   "source": [
    "import scipy.stats as st\n",
    "from itertools import combinations\n",
    "\n",
    "mut_result = []\n",
    "for target in results_pc_tid_final['Target ID'].unique()[:]:\n",
    "    for df_analysis in [results_pc_tid_final]:\n",
    "        for metric in ['MAE', 'RMSE']:\n",
    "            df_ = df_analysis.loc[(df_analysis['Target ID'] == target) & (df_analysis['Metric'] == f'{metric}')]\n",
    "            for i, pc in enumerate(['5 - 11', '5 - 7', '7 - 9','9 - 11']):\n",
    "                df = df_.loc[df_.potency_class == pc]\n",
    "                for alg in combinations(['1-NN','kNN','SVR', 'RFR', 'MR'], 2):\n",
    "                    print(alg)\n",
    "                    alg1 = df.query(f'Algorithm == \"{alg[0]}\"')['Value']\n",
    "                    alg2 = df.query(f'Algorithm == \"{alg[1]}\"')['Value']\n",
    "\n",
    "                    df_1 = pd.DataFrame(list(zip(alg1, alg2)), columns=[f'{alg[0]} {target}', f'{alg[1]} {target}'])\n",
    "                    stats, p_value = st.wilcoxon(list(alg1),list(alg2))\n",
    "                    mut_result_dict = {\"Algorithms\": f'{alg[0]} / {alg[1]}',\n",
    "                                       \"Potency range\": pc,\n",
    "                                       \"Metric\": metric,\n",
    "                                       \"Target ID\": target,\n",
    "                                       \"p_value\":round(p_value, 3),\n",
    "                                       'figure':i,\n",
    "                                       'approach': approach}\n",
    "                    mut_result.append(mut_result_dict)\n",
    "mut_result = pd.DataFrame(mut_result)\n",
    "display(mut_result)"
   ],
   "metadata": {
    "collapsed": false
   }
  },
  {
   "cell_type": "code",
   "execution_count": null,
   "outputs": [],
   "source": [
    "for t, met in zip(['a', 'b'], ['MAE', 'RMSE']):\n",
    "    plot_heatmap_stat_analysis(mut_result.loc[(mut_result.Metric == f'{met}')], x='Target ID', y='Algorithms', value='p_value', col='Potency range', col_wrap=2, height=5, aspect=1.5, square=False,\n",
    "                               results_path=figure_path, filename=f'S5_{met}', sub_fig_title=t)"
   ],
   "metadata": {
    "collapsed": false
   }
  }
 ],
 "metadata": {
  "kernelspec": {
   "display_name": "Python 3",
   "language": "python",
   "name": "python3"
  },
  "language_info": {
   "codemirror_mode": {
    "name": "ipython",
    "version": 2
   },
   "file_extension": ".py",
   "mimetype": "text/x-python",
   "name": "python",
   "nbconvert_exporter": "python",
   "pygments_lexer": "ipython2",
   "version": "2.7.6"
  }
 },
 "nbformat": 4,
 "nbformat_minor": 0
}
