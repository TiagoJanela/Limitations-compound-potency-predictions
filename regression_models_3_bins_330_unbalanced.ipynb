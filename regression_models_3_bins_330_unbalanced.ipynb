{
 "cells": [
  {
   "cell_type": "code",
   "execution_count": 1,
   "outputs": [],
   "source": [
    "%load_ext autoreload"
   ],
   "metadata": {
    "collapsed": false,
    "ExecuteTime": {
     "end_time": "2023-10-10T05:44:14.478674400Z",
     "start_time": "2023-10-10T05:44:14.416174700Z"
    }
   }
  },
  {
   "cell_type": "code",
   "execution_count": 2,
   "metadata": {
    "collapsed": true,
    "ExecuteTime": {
     "end_time": "2023-10-10T05:44:17.619271800Z",
     "start_time": "2023-10-10T05:44:14.478674400Z"
    }
   },
   "outputs": [],
   "source": [
    "from collections import defaultdict\n",
    "import joblib\n",
    "from tqdm.notebook import tqdm\n",
    "from ML.data_preprocessing import Dataset\n",
    "from ML.machine_learning_models import *\n",
    "# ML utils\n",
    "from ML.machine_learning_models import Model_Evaluation as ml_evaluation\n",
    "from ML.ml_utils_reg import create_directory, ECFP4, set_global_determinism, potency_classes, \\\n",
    "    select_train_subsets_unbalanced\n",
    "%autoreload 2"
   ]
  },
  {
   "cell_type": "markdown",
   "source": [
    "## Parameters"
   ],
   "metadata": {
    "collapsed": false
   }
  },
  {
   "cell_type": "code",
   "execution_count": 3,
   "outputs": [],
   "source": [
    "# parameters\n",
    "# Models\n",
    "model_list =  ['1-NN','kNN','SVR','RFR','MR']\n",
    "# Number of trials (datasplits)\n",
    "trial_splits = 10\n",
    "#Molecular Fingerprint\n",
    "fingerprint = 'ECFP4'\n",
    "# Approach\n",
    "approach = 'Unbalanced'\n",
    "# Training set sizes\n",
    "set_sizes = [6, 12, 18, 30, 48, 78, 126, 204, 330]"
   ],
   "metadata": {
    "collapsed": false,
    "ExecuteTime": {
     "end_time": "2023-10-10T05:44:17.752917300Z",
     "start_time": "2023-10-10T05:44:17.619271800Z"
    }
   }
  },
  {
   "cell_type": "markdown",
   "source": [
    "## Load Dataset"
   ],
   "metadata": {
    "collapsed": false
   }
  },
  {
   "cell_type": "code",
   "execution_count": 4,
   "outputs": [
    {
     "data": {
      "text/plain": "                               nonstereo_aromatic_smiles standard_type  \\\n0      COc1cccc2c1CCN(S(=O)(=O)c1cccc(C(=O)Nc3ccc(Cl)...          IC50   \n1      Cc1nsc(C)c1CCC1CCN(S(=O)(=O)CC(C)(CC(C)c2ncc(F...          IC50   \n2      Cc1nonc1NS(=O)(=O)c1ccc(Oc2ccc(Cl)cc2-c2ccnn2C...          IC50   \n3                   CCN(CCCCCCCCc1cccc(OC)c1)Cc1ccccc1OC          IC50   \n4       CCN(CCCCCCCOc1ccc2c(=O)c3ccccc3oc2c1)Cc1ccccc1OC          IC50   \n...                                                  ...           ...   \n40435  CC1NC(=O)c2cc(-c3c(F)ccc4c(=O)n(C)c(NC(C)(C)C)...          IC50   \n40436      CCOc1ccccc1-c1cc2c(NC(CCO)c3ccccc3)ncnc2[nH]1          IC50   \n40437  COCc1ccc(COCc2csc3nc(C(=O)NCc4cccc(OC)c4)[nH]c...          IC50   \n40438  CN1CCN(c2cccc(CCNC(=O)c3cnc(C#N)nc3NCC(C)(C)C)...          IC50   \n40439  CCn1nc(-c2cccc(-c3ccc(CC(=O)O)cc3)c2)cc(NC(=O)...          IC50   \n\n            pPot     chembl_cid  chembl_tid Potency class  potency_class  \n0       5.300000   CHEMBL520827   CHEMBL235         5 - 6              5  \n1       5.619789  CHEMBL1683460   CHEMBL333         5 - 6              5  \n2       5.000000  CHEMBL2325553  CHEMBL4296         5 - 6              5  \n3       5.247952  CHEMBL3752227   CHEMBL220         5 - 6              5  \n4       5.501689   CHEMBL224553   CHEMBL220         5 - 6              5  \n...          ...            ...         ...           ...            ...  \n40435  10.000000  CHEMBL3902148  CHEMBL2147       10 - 11              9  \n40436  10.000000  CHEMBL4760328   CHEMBL203       10 - 11              9  \n40437  10.096910  CHEMBL3337890   CHEMBL280       10 - 11              9  \n40438  10.958607   CHEMBL414530   CHEMBL268       10 - 11              9  \n40439  10.301030  CHEMBL3892121   CHEMBL275       10 - 11              9  \n\n[40440 rows x 7 columns]",
      "text/html": "<div>\n<style scoped>\n    .dataframe tbody tr th:only-of-type {\n        vertical-align: middle;\n    }\n\n    .dataframe tbody tr th {\n        vertical-align: top;\n    }\n\n    .dataframe thead th {\n        text-align: right;\n    }\n</style>\n<table border=\"1\" class=\"dataframe\">\n  <thead>\n    <tr style=\"text-align: right;\">\n      <th></th>\n      <th>nonstereo_aromatic_smiles</th>\n      <th>standard_type</th>\n      <th>pPot</th>\n      <th>chembl_cid</th>\n      <th>chembl_tid</th>\n      <th>Potency class</th>\n      <th>potency_class</th>\n    </tr>\n  </thead>\n  <tbody>\n    <tr>\n      <th>0</th>\n      <td>COc1cccc2c1CCN(S(=O)(=O)c1cccc(C(=O)Nc3ccc(Cl)...</td>\n      <td>IC50</td>\n      <td>5.300000</td>\n      <td>CHEMBL520827</td>\n      <td>CHEMBL235</td>\n      <td>5 - 6</td>\n      <td>5</td>\n    </tr>\n    <tr>\n      <th>1</th>\n      <td>Cc1nsc(C)c1CCC1CCN(S(=O)(=O)CC(C)(CC(C)c2ncc(F...</td>\n      <td>IC50</td>\n      <td>5.619789</td>\n      <td>CHEMBL1683460</td>\n      <td>CHEMBL333</td>\n      <td>5 - 6</td>\n      <td>5</td>\n    </tr>\n    <tr>\n      <th>2</th>\n      <td>Cc1nonc1NS(=O)(=O)c1ccc(Oc2ccc(Cl)cc2-c2ccnn2C...</td>\n      <td>IC50</td>\n      <td>5.000000</td>\n      <td>CHEMBL2325553</td>\n      <td>CHEMBL4296</td>\n      <td>5 - 6</td>\n      <td>5</td>\n    </tr>\n    <tr>\n      <th>3</th>\n      <td>CCN(CCCCCCCCc1cccc(OC)c1)Cc1ccccc1OC</td>\n      <td>IC50</td>\n      <td>5.247952</td>\n      <td>CHEMBL3752227</td>\n      <td>CHEMBL220</td>\n      <td>5 - 6</td>\n      <td>5</td>\n    </tr>\n    <tr>\n      <th>4</th>\n      <td>CCN(CCCCCCCOc1ccc2c(=O)c3ccccc3oc2c1)Cc1ccccc1OC</td>\n      <td>IC50</td>\n      <td>5.501689</td>\n      <td>CHEMBL224553</td>\n      <td>CHEMBL220</td>\n      <td>5 - 6</td>\n      <td>5</td>\n    </tr>\n    <tr>\n      <th>...</th>\n      <td>...</td>\n      <td>...</td>\n      <td>...</td>\n      <td>...</td>\n      <td>...</td>\n      <td>...</td>\n      <td>...</td>\n    </tr>\n    <tr>\n      <th>40435</th>\n      <td>CC1NC(=O)c2cc(-c3c(F)ccc4c(=O)n(C)c(NC(C)(C)C)...</td>\n      <td>IC50</td>\n      <td>10.000000</td>\n      <td>CHEMBL3902148</td>\n      <td>CHEMBL2147</td>\n      <td>10 - 11</td>\n      <td>9</td>\n    </tr>\n    <tr>\n      <th>40436</th>\n      <td>CCOc1ccccc1-c1cc2c(NC(CCO)c3ccccc3)ncnc2[nH]1</td>\n      <td>IC50</td>\n      <td>10.000000</td>\n      <td>CHEMBL4760328</td>\n      <td>CHEMBL203</td>\n      <td>10 - 11</td>\n      <td>9</td>\n    </tr>\n    <tr>\n      <th>40437</th>\n      <td>COCc1ccc(COCc2csc3nc(C(=O)NCc4cccc(OC)c4)[nH]c...</td>\n      <td>IC50</td>\n      <td>10.096910</td>\n      <td>CHEMBL3337890</td>\n      <td>CHEMBL280</td>\n      <td>10 - 11</td>\n      <td>9</td>\n    </tr>\n    <tr>\n      <th>40438</th>\n      <td>CN1CCN(c2cccc(CCNC(=O)c3cnc(C#N)nc3NCC(C)(C)C)...</td>\n      <td>IC50</td>\n      <td>10.958607</td>\n      <td>CHEMBL414530</td>\n      <td>CHEMBL268</td>\n      <td>10 - 11</td>\n      <td>9</td>\n    </tr>\n    <tr>\n      <th>40439</th>\n      <td>CCn1nc(-c2cccc(-c3ccc(CC(=O)O)cc3)c2)cc(NC(=O)...</td>\n      <td>IC50</td>\n      <td>10.301030</td>\n      <td>CHEMBL3892121</td>\n      <td>CHEMBL275</td>\n      <td>10 - 11</td>\n      <td>9</td>\n    </tr>\n  </tbody>\n</table>\n<p>40440 rows × 7 columns</p>\n</div>"
     },
     "execution_count": 4,
     "metadata": {},
     "output_type": "execute_result"
    }
   ],
   "source": [
    "# Dataset path\n",
    "db_path = \"./dataset/Datasets Chembl/\"\n",
    "# Load actives dB\n",
    "regression_db_all = pd.read_csv(db_path + f'chembl_30_IC50_500_CPDs.csv')\n",
    "regression_db_all['potency_class'] = potency_classes(regression_db_all.pPot.values, [5, 7, 9, 11])\n",
    "regression_db_all"
   ],
   "metadata": {
    "collapsed": false,
    "ExecuteTime": {
     "end_time": "2023-10-10T05:44:18.056917Z",
     "start_time": "2023-10-10T05:44:17.752917300Z"
    }
   }
  },
  {
   "cell_type": "markdown",
   "source": [
    "# Select Targets dataset"
   ],
   "metadata": {
    "collapsed": false
   }
  },
  {
   "cell_type": "code",
   "execution_count": 5,
   "outputs": [
    {
     "data": {
      "text/plain": "                               nonstereo_aromatic_smiles standard_type  \\\n20     Cc1nsc(C)c1CCC1CCN(S(=O)(=O)CC(C)(CC(C)c2ncc(F...          IC50   \n75     Cc1noc(C)c1CCC1CCN(S(=O)(=O)CC2(N(O)C=O)CCN(S(...          IC50   \n96     CCN(CC)CCCNc1ncc2cc(-c3c(Cl)cccc3Cl)c(=O)n(C)c2n1          IC50   \n138    CCN(CC)CCNC(=O)c1c(C)[nH]c(C=C2C(=O)Nc3ccc(Br)...          IC50   \n166     Clc1cc(Nc2ncnc3cccc(OC4CCOCC4)c23)ccc1OCc1ccccn1          IC50   \n...                                                  ...           ...   \n40431  COc1cccc(CNC(=O)c2nc3scc(NC(=O)Cc4ccccc4)c3c(=...          IC50   \n40432  CC(C)C(CS(=O)(=O)c1ccc(-c2cccc(CNC(=O)c3nc4ccc...          IC50   \n40433  COc1cccc(CNC(=O)c2nc3scc(NC(=O)Cc4ccc(C(=O)O)c...          IC50   \n40436      CCOc1ccccc1-c1cc2c(NC(CCO)c3ccccc3)ncnc2[nH]1          IC50   \n40437  COCc1ccc(COCc2csc3nc(C(=O)NCc4cccc(OC)c4)[nH]c...          IC50   \n\n            pPot     chembl_cid chembl_tid Potency class  potency_class  \n20      5.337242  CHEMBL1683460  CHEMBL280         5 - 6              5  \n75      5.337242  CHEMBL1784342  CHEMBL280         5 - 6              5  \n96      5.869666    CHEMBL50470  CHEMBL203         5 - 6              5  \n138     5.000000    CHEMBL13629  CHEMBL203         5 - 6              5  \n166     5.619789   CHEMBL193578  CHEMBL203         5 - 6              5  \n...          ...            ...        ...           ...            ...  \n40431  10.275724  CHEMBL3337902  CHEMBL280       10 - 11              9  \n40432  10.292430  CHEMBL3889936  CHEMBL280       10 - 11              9  \n40433  10.677781  CHEMBL3337903  CHEMBL280       10 - 11              9  \n40436  10.000000  CHEMBL4760328  CHEMBL203       10 - 11              9  \n40437  10.096910  CHEMBL3337890  CHEMBL280       10 - 11              9  \n\n[3438 rows x 7 columns]",
      "text/html": "<div>\n<style scoped>\n    .dataframe tbody tr th:only-of-type {\n        vertical-align: middle;\n    }\n\n    .dataframe tbody tr th {\n        vertical-align: top;\n    }\n\n    .dataframe thead th {\n        text-align: right;\n    }\n</style>\n<table border=\"1\" class=\"dataframe\">\n  <thead>\n    <tr style=\"text-align: right;\">\n      <th></th>\n      <th>nonstereo_aromatic_smiles</th>\n      <th>standard_type</th>\n      <th>pPot</th>\n      <th>chembl_cid</th>\n      <th>chembl_tid</th>\n      <th>Potency class</th>\n      <th>potency_class</th>\n    </tr>\n  </thead>\n  <tbody>\n    <tr>\n      <th>20</th>\n      <td>Cc1nsc(C)c1CCC1CCN(S(=O)(=O)CC(C)(CC(C)c2ncc(F...</td>\n      <td>IC50</td>\n      <td>5.337242</td>\n      <td>CHEMBL1683460</td>\n      <td>CHEMBL280</td>\n      <td>5 - 6</td>\n      <td>5</td>\n    </tr>\n    <tr>\n      <th>75</th>\n      <td>Cc1noc(C)c1CCC1CCN(S(=O)(=O)CC2(N(O)C=O)CCN(S(...</td>\n      <td>IC50</td>\n      <td>5.337242</td>\n      <td>CHEMBL1784342</td>\n      <td>CHEMBL280</td>\n      <td>5 - 6</td>\n      <td>5</td>\n    </tr>\n    <tr>\n      <th>96</th>\n      <td>CCN(CC)CCCNc1ncc2cc(-c3c(Cl)cccc3Cl)c(=O)n(C)c2n1</td>\n      <td>IC50</td>\n      <td>5.869666</td>\n      <td>CHEMBL50470</td>\n      <td>CHEMBL203</td>\n      <td>5 - 6</td>\n      <td>5</td>\n    </tr>\n    <tr>\n      <th>138</th>\n      <td>CCN(CC)CCNC(=O)c1c(C)[nH]c(C=C2C(=O)Nc3ccc(Br)...</td>\n      <td>IC50</td>\n      <td>5.000000</td>\n      <td>CHEMBL13629</td>\n      <td>CHEMBL203</td>\n      <td>5 - 6</td>\n      <td>5</td>\n    </tr>\n    <tr>\n      <th>166</th>\n      <td>Clc1cc(Nc2ncnc3cccc(OC4CCOCC4)c23)ccc1OCc1ccccn1</td>\n      <td>IC50</td>\n      <td>5.619789</td>\n      <td>CHEMBL193578</td>\n      <td>CHEMBL203</td>\n      <td>5 - 6</td>\n      <td>5</td>\n    </tr>\n    <tr>\n      <th>...</th>\n      <td>...</td>\n      <td>...</td>\n      <td>...</td>\n      <td>...</td>\n      <td>...</td>\n      <td>...</td>\n      <td>...</td>\n    </tr>\n    <tr>\n      <th>40431</th>\n      <td>COc1cccc(CNC(=O)c2nc3scc(NC(=O)Cc4ccccc4)c3c(=...</td>\n      <td>IC50</td>\n      <td>10.275724</td>\n      <td>CHEMBL3337902</td>\n      <td>CHEMBL280</td>\n      <td>10 - 11</td>\n      <td>9</td>\n    </tr>\n    <tr>\n      <th>40432</th>\n      <td>CC(C)C(CS(=O)(=O)c1ccc(-c2cccc(CNC(=O)c3nc4ccc...</td>\n      <td>IC50</td>\n      <td>10.292430</td>\n      <td>CHEMBL3889936</td>\n      <td>CHEMBL280</td>\n      <td>10 - 11</td>\n      <td>9</td>\n    </tr>\n    <tr>\n      <th>40433</th>\n      <td>COc1cccc(CNC(=O)c2nc3scc(NC(=O)Cc4ccc(C(=O)O)c...</td>\n      <td>IC50</td>\n      <td>10.677781</td>\n      <td>CHEMBL3337903</td>\n      <td>CHEMBL280</td>\n      <td>10 - 11</td>\n      <td>9</td>\n    </tr>\n    <tr>\n      <th>40436</th>\n      <td>CCOc1ccccc1-c1cc2c(NC(CCO)c3ccccc3)ncnc2[nH]1</td>\n      <td>IC50</td>\n      <td>10.000000</td>\n      <td>CHEMBL4760328</td>\n      <td>CHEMBL203</td>\n      <td>10 - 11</td>\n      <td>9</td>\n    </tr>\n    <tr>\n      <th>40437</th>\n      <td>COCc1ccc(COCc2csc3nc(C(=O)NCc4cccc(OC)c4)[nH]c...</td>\n      <td>IC50</td>\n      <td>10.096910</td>\n      <td>CHEMBL3337890</td>\n      <td>CHEMBL280</td>\n      <td>10 - 11</td>\n      <td>9</td>\n    </tr>\n  </tbody>\n</table>\n<p>3438 rows × 7 columns</p>\n</div>"
     },
     "execution_count": 5,
     "metadata": {},
     "output_type": "execute_result"
    }
   ],
   "source": [
    "regression_tids = ['CHEMBL280', 'CHEMBL203', 'CHEMBL2409']\n",
    "regression_db = regression_db_all.loc[regression_db_all.chembl_tid.isin(regression_tids)]\n",
    "regression_db"
   ],
   "metadata": {
    "collapsed": false,
    "ExecuteTime": {
     "end_time": "2023-10-10T05:44:18.190929600Z",
     "start_time": "2023-10-10T05:44:18.056917Z"
    }
   }
  },
  {
   "cell_type": "markdown",
   "source": [
    "# Create results folder"
   ],
   "metadata": {
    "collapsed": false
   }
  },
  {
   "cell_type": "code",
   "execution_count": 6,
   "outputs": [],
   "source": [
    "# Results path\n",
    "main_folder = 'regression_models_increase_tr_sizes_3_bins_unbalanced'\n",
    "result_path = f'./{main_folder}/{fingerprint}/{approach}/'"
   ],
   "metadata": {
    "collapsed": false,
    "ExecuteTime": {
     "end_time": "2023-10-10T05:44:21.478786400Z",
     "start_time": "2023-10-10T05:44:21.338450400Z"
    }
   }
  },
  {
   "cell_type": "code",
   "execution_count": 7,
   "outputs": [
    {
     "data": {
      "text/plain": "array(['CHEMBL280', 'CHEMBL203', 'CHEMBL2409'], dtype=object)"
     },
     "execution_count": 7,
     "metadata": {},
     "output_type": "execute_result"
    }
   ],
   "source": [
    "regression_tids = regression_db.chembl_tid.unique()[:]\n",
    "regression_tids"
   ],
   "metadata": {
    "collapsed": false,
    "ExecuteTime": {
     "end_time": "2023-10-10T05:44:23.074608400Z",
     "start_time": "2023-10-10T05:44:22.947542200Z"
    }
   }
  },
  {
   "cell_type": "code",
   "execution_count": null,
   "outputs": [],
   "source": [
    "# Performance/prediction datasets\n",
    "dict_storage = defaultdict(pd.DataFrame)\n",
    "parameter_resume = []\n",
    "\n",
    "performance_train_df = pd.DataFrame()\n",
    "predictions_train_df = pd.DataFrame()\n",
    "performance_test_df = pd.DataFrame()\n",
    "predictions_test_df = pd.DataFrame()\n",
    "\n",
    "for target in tqdm(regression_tids):\n",
    "\n",
    "    target_path = create_directory(f'./{main_folder}/{fingerprint}/{approach}/{target}/')\n",
    "\n",
    "    print(f'Training on {target}')\n",
    "\n",
    "    # Select Target Database\n",
    "    regression_db_tid = regression_db.loc[regression_db.chembl_tid == target]\n",
    "\n",
    "    for trial in range(trial_splits):\n",
    "        print(f'Starting Trial {trial}')\n",
    "        df_regression_train_cids = select_train_subsets_unbalanced(regression_db_tid, sizes=set_sizes, seed=trial)\n",
    "\n",
    "        #Set seed\n",
    "        set_global_determinism(seed=trial)\n",
    "\n",
    "        # TEST set\n",
    "        df_regression_test = regression_db_tid.loc[~regression_db_tid.chembl_cid.isin(df_regression_train_cids[set_sizes[-1]])]\n",
    "        test_set = Dataset(np.array(ECFP4(df_regression_test.nonstereo_aromatic_smiles.values)), np.array(df_regression_test.pPot.values))\n",
    "        test_set.add_instance(\"target\", df_regression_test.chembl_tid.values)\n",
    "        test_set.add_instance(\"smiles\", df_regression_test.nonstereo_aromatic_smiles.values)\n",
    "        test_set.add_instance(\"cid\", df_regression_test.chembl_cid.values)\n",
    "\n",
    "        for size in set_sizes:\n",
    "            print(size)\n",
    "\n",
    "            # TRAIN set\n",
    "            df_regression_train = regression_db_tid.loc[regression_db_tid.chembl_cid.isin(df_regression_train_cids[size])]\n",
    "            train_set = Dataset(np.array(ECFP4(df_regression_train.nonstereo_aromatic_smiles.values)), np.array(df_regression_train.pPot.values))\n",
    "            train_set.add_instance(\"target\", df_regression_train.chembl_tid.values)\n",
    "            train_set.add_instance(\"smiles\", df_regression_train.nonstereo_aromatic_smiles.values)\n",
    "            train_set.add_instance(\"cid\", df_regression_train.chembl_cid.values)\n",
    "            train_set.add_instance(\"potency_classes\", df_regression_train.potency_class.values)\n",
    "\n",
    "            for model in model_list:\n",
    "\n",
    "                print(f'Training {model}')\n",
    "\n",
    "                # Create saving directory\n",
    "                model_fpath = create_directory(f\"./{main_folder}/{fingerprint}/{approach}/{target}/{model}/{size}\", verbose=False)\n",
    "\n",
    "                ml_model = MLModel(train_set, model, data_type='unbalanced')\n",
    "                joblib.dump(ml_model.model, os.path.join(model_fpath, f\"{model}_{trial}.pkl\"))\n",
    "\n",
    "                #Best model parameters\n",
    "                opt_parameters_dict = {**{'model': model,\n",
    "                                            'trial': trial,\n",
    "                                            'Target ID': target,\n",
    "                                            'Training size':size}, **ml_model.best_params}\n",
    "                parameter_resume.append(opt_parameters_dict)\n",
    "\n",
    "                # TEST\n",
    "                #Model Evaluation\n",
    "                model_eval_train = ml_evaluation(ml_model, train_set, train_set, model_id=model)\n",
    "                model_eval_test = ml_evaluation(ml_model, test_set, train_set, model_id=model)\n",
    "\n",
    "                #Performance df\n",
    "                performance_train = model_eval_train.pred_performance\n",
    "                performance_train[\"trial\"] = trial\n",
    "                performance_train[\"Approach\"] = approach\n",
    "                performance_train[\"Training size\"] = size\n",
    "                performance_train_df = pd.concat([performance_train_df, performance_train])\n",
    "\n",
    "                # Prediction df\n",
    "                predictions_train = model_eval_train.predictions\n",
    "                predictions_train[\"trial\"] = trial\n",
    "                predictions_train[\"Approach\"] = approach\n",
    "                predictions_train[\"Training size\"] = size\n",
    "                predictions_train_df = pd.concat([predictions_train_df, predictions_train])\n",
    "\n",
    "                #Performance df\n",
    "                performance_test = model_eval_test.pred_performance\n",
    "                performance_test[\"trial\"] = trial\n",
    "                performance_test[\"Approach\"] = approach\n",
    "                performance_test[\"Training size\"] = size\n",
    "                performance_test_df = pd.concat([performance_test_df, performance_test])\n",
    "\n",
    "                # Prediction df\n",
    "                predictions_test = model_eval_test.predictions\n",
    "                predictions_test[\"trial\"] = trial\n",
    "                predictions_test[\"Approach\"] = approach\n",
    "                predictions_test[\"Training size\"] = size\n",
    "                predictions_test_df = pd.concat([predictions_test_df, predictions_test])\n",
    "\n",
    "parameter_df = pd.DataFrame(parameter_resume)\n",
    "\n",
    "# Save results\n",
    "performance_train_df.to_csv(os.path.join(result_path, f'performance_train.csv'))\n",
    "predictions_train_df.to_csv(os.path.join(result_path, f'predictions_train.csv'))\n",
    "performance_test_df.to_csv(os.path.join(result_path, f'performance_test.csv'))\n",
    "predictions_test_df.to_csv(os.path.join(result_path, f'predictions_test.csv'))\n",
    "parameter_df.to_csv(os.path.join(result_path, f'model_best_parameters.csv'))"
   ],
   "metadata": {
    "collapsed": false
   }
  }
 ],
 "metadata": {
  "kernelspec": {
   "display_name": "Python 3",
   "language": "python",
   "name": "python3"
  },
  "language_info": {
   "codemirror_mode": {
    "name": "ipython",
    "version": 2
   },
   "file_extension": ".py",
   "mimetype": "text/x-python",
   "name": "python",
   "nbconvert_exporter": "python",
   "pygments_lexer": "ipython2",
   "version": "2.7.6"
  }
 },
 "nbformat": 4,
 "nbformat_minor": 0
}
